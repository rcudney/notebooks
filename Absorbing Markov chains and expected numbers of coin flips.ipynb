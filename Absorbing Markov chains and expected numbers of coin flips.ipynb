{
 "cells": [
  {
   "cell_type": "code",
   "execution_count": 1,
   "metadata": {},
   "outputs": [],
   "source": [
    "import numpy as np"
   ]
  },
  {
   "cell_type": "markdown",
   "metadata": {},
   "source": [
    "This notebook uses [absorbing Markov chains](https://en.wikipedia.org/wiki/Absorbing_Markov_chain) to solve the following problem: If you repeatedly flip a fair coin, what is the expected number of flips until a particular sequences of heads and tails occurs?\n",
    "\n",
    "The functions defined here can actually solve the more general problem for a sequence of outcomes where there are more than 2 possible outcomes and the outcomes do not have equal probability.\n",
    "\n",
    "The first function in this notebook is `expected_number_of_steps`, which takes as input a transition matrix and starting state (represented as an integer indexing a row in the matrix), and returns the expected number of steps until an absorbing state is reached. This function uses `np.linalg.solve` to solve a system of linear equations derived from the input data."
   ]
  },
  {
   "cell_type": "code",
   "execution_count": 2,
   "metadata": {},
   "outputs": [],
   "source": [
    "def expected_number_of_steps(transition_matrix, starting_state):\n",
    "    #First, find the set of absorbing states.\n",
    "    n=transition_matrix.shape[0]\n",
    "    absorbing_states=[]\n",
    "    for i in range(n):\n",
    "        row=np.zeros(n)\n",
    "        row[i]=1\n",
    "        if (row==transition_matrix[i]).all():\n",
    "            absorbing_states.append(i)\n",
    "    if len(absorbing_states)==0:\n",
    "        raise Exception(\"The input transition matrix defines a Markov chain with no absorbing states.\")\n",
    "    if starting_state in absorbing_states:\n",
    "        return 0\n",
    "    \n",
    "    #Delete the rows and columns corresponding to the absorbing states.\n",
    "    Q=np.delete(transition_matrix, absorbing_states, axis=0)\n",
    "    Q=np.delete(Q, absorbing_states, axis=1)\n",
    "    \n",
    "    ss=starting_state\n",
    "    #Correctly index the starting state if its index is after an absorbing state's index.\n",
    "    for i in absorbing_states:\n",
    "        if ss > i:\n",
    "            ss = ss-1\n",
    "    \n",
    "    return np.linalg.solve(np.identity(n-1)-Q,np.repeat(1,n-1))[ss]"
   ]
  },
  {
   "cell_type": "markdown",
   "metadata": {},
   "source": [
    "Now, given a target sequence of n outcomes, and probabilities for those outcomes, we can consider the following Markov chain: \n",
    "* The states are the integers from 0 to n. You are in state k if k is the largest integer such that your sequence of outcomes ends in the first k outcomes in the target sequence. In other words, it represents how many steps you are into the target sequence.\n",
    "* If you are in state n, you always stay in state n. In other words, the process stops once the target sequence occurs.\n",
    "* If j < n, the probability of going from state j to state k is the probability that if you add an extra outcome to the first j outcomes of the target sequence, this new sequence will sequence will be in state k. There is always a probability of going from j to j+1. But there is also a chance of going backwards.\n",
    "\n",
    "Given a sequence of outcomes, and a dictionary of probabilities for those outcomes, the function `get_transition_matrix_from_seq` will return the transition matrix associated to the Markov chain described above."
   ]
  },
  {
   "cell_type": "code",
   "execution_count": 3,
   "metadata": {},
   "outputs": [],
   "source": [
    "def matching_subseq_length(main_seq,other_seq):\n",
    "    #Returns the largest k such that the last k symbols of the other sequence\n",
    "    #are the first k symbols of the main sequence.\n",
    "    #other_seq is assumed to be no longer than main_seq.\n",
    "    m=len(other_seq)\n",
    "    for k in range(m,-1,-1):\n",
    "        if main_seq[:k]==other_seq[-k:]:\n",
    "            return k\n",
    "    return 0\n",
    "\n",
    "def get_transition_matrix_from_seq(seq, prob_dict):\n",
    "    n=len(seq)\n",
    "    P=np.zeros((n+1,n+1))\n",
    "    P[n][n]=1\n",
    "    for i in range(n):\n",
    "        s=seq[:i]\n",
    "        for c in prob_dict.keys():\n",
    "            P[i][matching_subseq_length(seq,s+c)]+=prob_dict[c]\n",
    "    return P"
   ]
  },
  {
   "cell_type": "markdown",
   "metadata": {},
   "source": [
    "Here is an example. Suppose you are flipping a coin, and the target sequence is 3 heads in a row. Then the states are 0, 1, 2, 3. In states 0-2, there is a 1/2 probability of advancing one state, and a 1/2 probability of going back to 0. In state 3, you always stay at 3.\n",
    "\n",
    "The function `get_transition_matrix_from_seq` will return the transition matrix corresponding to this system, which has the probabilities described above:"
   ]
  },
  {
   "cell_type": "code",
   "execution_count": 4,
   "metadata": {},
   "outputs": [
    {
     "data": {
      "text/plain": [
       "array([[0.5, 0.5, 0. , 0. ],\n",
       "       [0.5, 0. , 0.5, 0. ],\n",
       "       [0.5, 0. , 0. , 0.5],\n",
       "       [0. , 0. , 0. , 1. ]])"
      ]
     },
     "execution_count": 4,
     "metadata": {},
     "output_type": "execute_result"
    }
   ],
   "source": [
    "fair_coin={\"H\":0.5,\"T\":0.5}\n",
    "get_transition_matrix_from_seq(\"HHH\",fair_coin)"
   ]
  },
  {
   "cell_type": "markdown",
   "metadata": {},
   "source": [
    "Finally, `ev_to_reach_seq` will combine both functions above to directly solve the original problem. Given a sequence of outcomes, and a dictionary of probabilities for those outcomes, it returns the expected number of steps for the target sequence to occur."
   ]
  },
  {
   "cell_type": "code",
   "execution_count": 5,
   "metadata": {},
   "outputs": [],
   "source": [
    "def ev_to_reach_seq(seq, prob_dict):\n",
    "    P=get_transition_matrix_from_seq(seq, prob_dict)\n",
    "    return expected_number_of_steps(P,0)"
   ]
  },
  {
   "cell_type": "markdown",
   "metadata": {},
   "source": [
    "Now, let's use this function to find the expected number of coin flips to reach some different sequences of heads and tails:"
   ]
  },
  {
   "cell_type": "code",
   "execution_count": 6,
   "metadata": {},
   "outputs": [
    {
     "name": "stdout",
     "output_type": "stream",
     "text": [
      "H: 2.0\n",
      "HH: 6.0\n",
      "HT: 4.0\n",
      "HHH: 14.0\n",
      "HHT: 8.0\n",
      "HTH: 10.0\n",
      "HTT: 8.0\n"
     ]
    }
   ],
   "source": [
    "coin_flip_seqs=[\"H\",\"HH\", \"HT\", \"HHH\",\"HHT\",\"HTH\",\"HTT\"]\n",
    "for s in coin_flip_seqs:\n",
    "    print(s+': '+str(ev_to_reach_seq(s,fair_coin)))"
   ]
  },
  {
   "cell_type": "markdown",
   "metadata": {},
   "source": [
    "Let's see what happens if the coin is unfair and has a 2/3 probability of landing on heads."
   ]
  },
  {
   "cell_type": "code",
   "execution_count": 7,
   "metadata": {},
   "outputs": [
    {
     "name": "stdout",
     "output_type": "stream",
     "text": [
      "H: 1.4999999999999998\n",
      "HH: 3.749999999999999\n",
      "HT: 4.499999999999999\n",
      "HHH: 7.124999999999998\n",
      "HHT: 6.749999999999998\n",
      "HTH: 8.249999999999996\n",
      "HTT: 13.499999999999996\n"
     ]
    }
   ],
   "source": [
    "unfair_coin={'H':2/3,'T':1/3}\n",
    "for s in coin_flip_seqs:\n",
    "    print(s+': '+str(ev_to_reach_seq(s,unfair_coin)))"
   ]
  },
  {
   "cell_type": "markdown",
   "metadata": {},
   "source": [
    "To conclude, here are some examples with 3 outcomes of equal probability:"
   ]
  },
  {
   "cell_type": "code",
   "execution_count": 8,
   "metadata": {},
   "outputs": [
    {
     "name": "stdout",
     "output_type": "stream",
     "text": [
      "A: 2.9999999999999996\n",
      "AA: 11.999999999999998\n",
      "AB: 8.999999999999995\n",
      "AAA: 38.999999999999986\n",
      "AAB: 26.999999999999986\n",
      "ABA: 29.999999999999947\n",
      "BAA: 26.999999999999943\n",
      "ABC: 26.999999999999943\n"
     ]
    }
   ],
   "source": [
    "three_equal={c:1/3 for c in [\"A\",\"B\",\"C\"]}\n",
    "for s in [\"A\",\"AA\",\"AB\",\"AAA\",\"AAB\",\"ABA\",\"BAA\",\"ABC\"]:\n",
    "    print(str(s)+\": \"+str(ev_to_reach_seq(s,three_equal)))"
   ]
  }
 ],
 "metadata": {
  "kernelspec": {
   "display_name": "Python 3",
   "language": "python",
   "name": "python3"
  },
  "language_info": {
   "codemirror_mode": {
    "name": "ipython",
    "version": 3
   },
   "file_extension": ".py",
   "mimetype": "text/x-python",
   "name": "python",
   "nbconvert_exporter": "python",
   "pygments_lexer": "ipython3",
   "version": "3.8.1"
  }
 },
 "nbformat": 4,
 "nbformat_minor": 4
}
