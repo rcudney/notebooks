{
 "cells": [
  {
   "cell_type": "markdown",
   "metadata": {},
   "source": [
    "This notebook visualizes state evolution for the box-ball soliton cellular automaton. The evolution rule for this model is described in the introduction to [this survey paper](https://arxiv.org/abs/1109.5349).\n",
    "\n",
    "In this notebook, a state of the system is represented as a Boolean array, with each Boolean value indicating whether there is a box in that spot.\n",
    "\n",
    "The `evolve` function below implements the update rule using two pointers: One to keep track of the position the ball is being grabbed from, and one to keep track of where the balls are being placed in the new state."
   ]
  },
  {
   "cell_type": "code",
   "execution_count": 1,
   "metadata": {},
   "outputs": [],
   "source": [
    "def evolve(input_row,pre_trimmed=False):\n",
    "    #Given one row, evolve the next row.\n",
    "    #Row is represented as list of True and False.\n",
    "    row=input_row\n",
    "    \n",
    "    if not pre_trimmed:\n",
    "        while not row[-1] and len(row)>0:\n",
    "            row.pop()\n",
    "    if len(row)==0:\n",
    "        return row\n",
    "    \n",
    "    n=len(row)\n",
    "    grab=0 #Pointer for where ball will be grabbed from.\n",
    "    place=-1 #Pointer for where ball can be placed.\n",
    "    \n",
    "    #The new row will be at most twice the length of the previous row.\n",
    "    new_row=[False for i in range(2*n)]\n",
    "    \n",
    "    while grab<n:\n",
    "        while not row[grab]:\n",
    "            #Look for a ball in the given row.\n",
    "            grab +=1\n",
    "        place=max(place+1,grab+1) #This is the earliest possible spot a ball can be placed.\n",
    "        while place<n and row[place]:\n",
    "            #Look for an empty spot to place the ball.\n",
    "            place +=1\n",
    "        new_row[place]=True\n",
    "        grab +=1\n",
    "        \n",
    "    return new_row[:place+1]"
   ]
  },
  {
   "cell_type": "markdown",
   "metadata": {},
   "source": [
    "State evolution can be visualized as a 2D image, where each row represents the state at a particular time, with black pixels representing the positions of the balls. After some image display code and helper functions are defined in the cell below, there are some examples further down."
   ]
  },
  {
   "cell_type": "code",
   "execution_count": 2,
   "metadata": {},
   "outputs": [],
   "source": [
    "from PIL import Image\n",
    "from IPython.display import display\n",
    "import random\n",
    "import numpy as np\n",
    "\n",
    "def convert_list_of_rows(list_of_rows, max_length=None):\n",
    "    #Converts a list of boolean rows of varying length\n",
    "    #into a list of 0-1 rows of uniform length.\n",
    "    n = len(list_of_rows[-1])\n",
    "    if max_length is None:\n",
    "        max_length=n\n",
    "    new_list_of_rows=[]\n",
    "    for r in list_of_rows:\n",
    "        new_row=[int(b) for b in r[:max_length]]\n",
    "        m=len(new_row)\n",
    "        new_row.extend([0 for i in range(max_length-m)])\n",
    "        new_list_of_rows.append(new_row)\n",
    "    return new_list_of_rows\n",
    "\n",
    "def create_list_of_rows(initial, n):\n",
    "    row=initial\n",
    "    list_of_rows=[row]\n",
    "    row=evolve(row)\n",
    "    list_of_rows.append(row)\n",
    "    for i in range(n-2):\n",
    "        row=evolve(row, True)\n",
    "        list_of_rows.append(row)\n",
    "    return list_of_rows\n",
    "\n",
    "def display_01_array(z1_array):\n",
    "    #z1_array should be an array of 0s and 1s. This will function will\n",
    "    #display the array with 1s as black pixels and 0s as white ones.\n",
    "    pil_im=Image.fromarray(((1-z1_array)*255).astype('uint8'), mode=\"P\")\n",
    "    display(pil_im)\n",
    "    \n",
    "def random_row(width, p = 0.5):\n",
    "    #Returns a random 0-1 row, where each position has probability p of having value 1.\n",
    "    row=random.choices([False,True], weights=[1-p,p], k=width)\n",
    "    return row\n",
    "\n",
    "def parsed_row(list_of_ints):\n",
    "    b=True\n",
    "    row=[]\n",
    "    for i in list_of_ints:\n",
    "        row.extend([b for j in range(i)])\n",
    "        b=not b\n",
    "    return row\n",
    "    \n",
    "def draw_SCA(initial, height,width=None):\n",
    "    image_array=np.array(convert_list_of_rows(create_list_of_rows(initial,height),width))\n",
    "    display_01_array(image_array)"
   ]
  },
  {
   "cell_type": "markdown",
   "metadata": {},
   "source": [
    "This example shows a soliton of length 5 meeting a soliton of length 1, and the result of their interaction."
   ]
  },
  {
   "cell_type": "code",
   "execution_count": 3,
   "metadata": {},
   "outputs": [
    {
     "data": {
      "image/png": "[encoded data removed]",
      "text/plain": [
       "<PIL.Image.Image image mode=P size=502x100 at 0x10F0491F0>"
      ]
     },
     "metadata": {},
     "output_type": "display_data"
    }
   ],
   "source": [
    "draw_SCA(parsed_row([5,100,1]),100)"
   ]
  },
  {
   "cell_type": "markdown",
   "metadata": {},
   "source": [
    "This example shows a soliton of length 2 interacting with 20 solitons of length 1."
   ]
  },
  {
   "cell_type": "code",
   "execution_count": 4,
   "metadata": {},
   "outputs": [
    {
     "data": {
      "image/png": "[encoded data removed]",
      "text/plain": [
       "<PIL.Image.Image image mode=P size=240x100 at 0x10FA452E0>"
      ]
     },
     "metadata": {},
     "output_type": "display_data"
    }
   ],
   "source": [
    "draw_SCA(parsed_row([2,30]+[1,2]*20),100)"
   ]
  },
  {
   "cell_type": "markdown",
   "metadata": {},
   "source": [
    "This example shows 10 solitons ranging in size from 10 to 1 arranged in decreasing order, interacting, with the result being 10 solitons of the same sizes, but in increasing order from left to right."
   ]
  },
  {
   "cell_type": "code",
   "execution_count": 5,
   "metadata": {},
   "outputs": [
    {
     "data": {
      "image/png": "[encoded data removed]",
      "text/plain": [
       "<PIL.Image.Image image mode=P size=900x60 at 0x10FA45DC0>"
      ]
     },
     "metadata": {},
     "output_type": "display_data"
    }
   ],
   "source": [
    "l=[]\n",
    "for i in range(10,1,-1):\n",
    "    l.append(i)\n",
    "    l.append(2*i)\n",
    "    l.append(i)\n",
    "    l.append(2*i)\n",
    "row=parsed_row(l)\n",
    "draw_SCA(row,60,900)"
   ]
  },
  {
   "cell_type": "code",
   "execution_count": 13,
   "metadata": {},
   "outputs": [
    {
     "data": {
      "image/png": "[encoded data removed]",
      "text/plain": [
       "<PIL.Image.Image image mode=P size=900x200 at 0x10F07C280>"
      ]
     },
     "metadata": {},
     "output_type": "display_data"
    }
   ],
   "source": [
    "draw_SCA(random_row(200,0.3),200,900)"
   ]
  },
  {
   "cell_type": "code",
   "execution_count": 20,
   "metadata": {},
   "outputs": [
    {
     "data": {
      "image/png": "[encoded data removed]",
      "text/plain": [
       "<PIL.Image.Image image mode=P size=900x200 at 0x10FA29730>"
      ]
     },
     "metadata": {},
     "output_type": "display_data"
    }
   ],
   "source": [
    "draw_SCA(parsed_row([5,30])+random_row(200,0.5), 200,900)"
   ]
  }
 ],
 "metadata": {
  "kernelspec": {
   "display_name": "Python 3",
   "language": "python",
   "name": "python3"
  },
  "language_info": {
   "codemirror_mode": {
    "name": "ipython",
    "version": 3
   },
   "file_extension": ".py",
   "mimetype": "text/x-python",
   "name": "python",
   "nbconvert_exporter": "python",
   "pygments_lexer": "ipython3",
   "version": "3.8.1"
  }
 },
 "nbformat": 4,
 "nbformat_minor": 4
}
