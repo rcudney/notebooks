{
 "cells": [
  {
   "cell_type": "code",
   "execution_count": 1,
   "metadata": {},
   "outputs": [],
   "source": [
    "import abc\n",
    "import math\n",
    "from fractions import Fraction"
   ]
  },
  {
   "cell_type": "markdown",
   "metadata": {},
   "source": [
    "# Introduction\n",
    "The goal of this notebook is to create some classes that represent different types of real numbers for which some exact arithmetic can be performed, and then compute continued fractions for these numbers. Floating point arithmetic will not be used anywhere.\n",
    "\n",
    "The purpose of this notebook was for me to get some practice with OOP in Python by doing some fun calculations.\n",
    "\n",
    "## Note on libraries\n",
    "The libraries `math` and `fractions` imported above are not strictly necessary. \n",
    "\n",
    "The only function from the math library that is used below is the `gcd` function, which I could define myself. The function `math.floor` is invoked repeatedly below, but these uses all actually call code from `__floor__` methods in the classes defined in this notebook.\n",
    "\n",
    "I originally defined a `RationalNumber` class in this notebook that would have removed the need for the `Fraction` class to be imported, but I decided to cut it since they were the least interesting class of numbers here. The `Fraction` class or something equivalent is needed so that exact arithmetic with fractions can be performed in several places.\n",
    "\n",
    "# The abstract base class\n",
    "First I define an abstract base class `ExactRealNumber`. This specifies the methods that all concrete subclasses must instantiate, and uses them to construct other methods.\n",
    "\n",
    "Concrete subclasses of exact real numbers are required to support just the following operations, where x is an instance of the subclass and n is an integer:\n",
    "* x+n\n",
    "* x==n\n",
    "* x>n\n",
    "* 1/x\n",
    "\n",
    "From those operations, it will be possible to calculate the continued fraction for any instance of the class."
   ]
  },
  {
   "cell_type": "code",
   "execution_count": 2,
   "metadata": {},
   "outputs": [],
   "source": [
    "class ExactRealNumber(abc.ABC):\n",
    "    @abc.abstractmethod\n",
    "    def __add__(self, other):\n",
    "        \"\"\"Must be defined when other is an integer.\"\"\"\n",
    "\n",
    "    @abc.abstractmethod\n",
    "    def __gt__(self, other):\n",
    "        \"\"\"Must be defined when other is an integer.\"\"\"\n",
    "        \n",
    "    @abc.abstractmethod\n",
    "    def __eq__(self, other):\n",
    "        \"\"\"Must be defined when other is an integer.\"\"\"\n",
    "\n",
    "    @abc.abstractmethod \n",
    "    def __rtruediv__(self, other):\n",
    "        \"\"\"Must be defined when other is 1, if self is non-zero.\"\"\"\n",
    "        \n",
    "    def __sub__(self, other):\n",
    "        return self + (-1)*other\n",
    "    \n",
    "    def __radd__(self, other):\n",
    "        return self+other\n",
    "    \n",
    "    def __rmul__(self, other):\n",
    "        #Not all subclasses will have multiplication, but if they do, it will be commutative.\n",
    "        return self*other\n",
    "    \n",
    "    def __ne__(self,other):\n",
    "        return not self == other\n",
    "    \n",
    "    def __le__(self,other):\n",
    "        return not self > other\n",
    "    \n",
    "    def __lt__(self, other):\n",
    "        return (not self > other) and (not self == other)\n",
    "    \n",
    "    def __ge__(self, other):\n",
    "        return (self > other) or (self == other)\n",
    "    \n",
    "    def __floor__(self):\n",
    "        #This method will be overridden in some cases.\n",
    "        num=self\n",
    "        floor = 0\n",
    "        if num > 0:\n",
    "            while num >= floor+1:\n",
    "                floor += 1\n",
    "        elif num < 0:\n",
    "            while num < floor:\n",
    "                floor += -1\n",
    "        return floor"
   ]
  },
  {
   "cell_type": "markdown",
   "metadata": {},
   "source": [
    "Here is the polymorphic continued fraction function that can be applied to any concrete instance of a subclass:"
   ]
  },
  {
   "cell_type": "code",
   "execution_count": 3,
   "metadata": {},
   "outputs": [],
   "source": [
    "def continued_fraction_terms(x, n):\n",
    "    #Returns the first n terms of the continued fraction,\n",
    "    #or the complete continued fraction, if it has less than n terms.\n",
    "    i=0\n",
    "    rn = x\n",
    "    cflist=[]\n",
    "    while i < n:\n",
    "        fl=math.floor(rn)\n",
    "        cflist.append(fl)\n",
    "        rn=rn -fl\n",
    "        if rn == 0:\n",
    "            break\n",
    "        else:\n",
    "            rn=1/rn\n",
    "            i += 1\n",
    "    return cflist"
   ]
  },
  {
   "cell_type": "markdown",
   "metadata": {},
   "source": [
    "This can also be applied to numbers from the existing `Fraction` class, which allows for exact rational arithmetic.\n",
    "\n",
    "For example:"
   ]
  },
  {
   "cell_type": "code",
   "execution_count": 4,
   "metadata": {},
   "outputs": [
    {
     "data": {
      "text/plain": [
       "[1, 1, 1, 1, 1, 1, 1, 1, 1, 1]"
      ]
     },
     "execution_count": 4,
     "metadata": {},
     "output_type": "execute_result"
    }
   ],
   "source": [
    "continued_fraction_terms(Fraction(233,144),10)"
   ]
  },
  {
   "cell_type": "markdown",
   "metadata": {},
   "source": [
    "It will also be useful to define a custom exception type to deal with initialization errors for the different classes."
   ]
  },
  {
   "cell_type": "code",
   "execution_count": 5,
   "metadata": {},
   "outputs": [],
   "source": [
    "class InitializationError(Exception):\n",
    "    def __init__(self, message):\n",
    "        self.message=message"
   ]
  },
  {
   "cell_type": "markdown",
   "metadata": {},
   "source": [
    "# Logarithms of rational numbers\n",
    "One kind of number for which continued fractions can be exactly calculated are logarithms of rational numbers with rational bases. This set of numbers is not even closed under addition or multiplcation, but using the identities 1/log_b(a)=log_a(b) and log_b(a)+k=log_b(a\\*b^k) the required operations can be defined.\n",
    "\n",
    "Another distinction between this class and the others defined in this notebook is that these numbers are all rational or transcendental, by the [Gelfond-Schneider theorem](https://en.wikipedia.org/wiki/Gelfond%E2%80%93Schneider_theorem). All the other numbers in this notebook will be algebraic."
   ]
  },
  {
   "cell_type": "code",
   "execution_count": 6,
   "metadata": {},
   "outputs": [],
   "source": [
    "class LogNumber(ExactRealNumber):\n",
    "    def __init__(self,base,a):\n",
    "        self.base=Fraction(base)\n",
    "        self.a=Fraction(a)\n",
    "        if self.a <= 0:\n",
    "            raise InitializationError('The argument of the logarithm must be positive, but the given argument was {}.'.format(str(a)))\n",
    "        if self.base == 1 or self.base < 0:\n",
    "            raise InitializationError('The base of the logarithm should be positive and not equal to 1, but the given base was {}.'.format(str(base)))\n",
    "\n",
    "        \n",
    "    def __add__(self,other):\n",
    "        if isinstance(other,int):\n",
    "            return LogNumber(self.base,self.a*(self.base)**other)\n",
    "        else:\n",
    "            return NotImplemented\n",
    "        \n",
    "    def __gt__(self,other):\n",
    "        if other==0:\n",
    "            if self.base > 1:\n",
    "                return self.a > 1\n",
    "            elif self.base < 1:\n",
    "                return self.a < 1\n",
    "        else:\n",
    "            return (self-other) > 0\n",
    "        \n",
    "    def __rtruediv__(self,other):\n",
    "        if self != 0:\n",
    "            if isinstance(other,int):\n",
    "                return LogNumber(self.a,self.base**other)\n",
    "            else:\n",
    "                return NotImplemented\n",
    "        else:\n",
    "            raise ZeroDivisionError()\n",
    "    \n",
    "    def __mul__(self,other):\n",
    "        if isinstance(other, int):\n",
    "            return LogNumber(self.base,self.a**other)\n",
    "        else:\n",
    "            return NotImplemented\n",
    "        \n",
    "    def __eq__(self,other):\n",
    "        if isinstance(other,int):\n",
    "            return (self.base)**other==self.a\n",
    "        else:\n",
    "            return NotImplemented\n",
    "    \n",
    "    def __str__(self):\n",
    "        return \"log_\"+str(self.base)+\"(\"+str(self.a)+\")\""
   ]
  },
  {
   "cell_type": "markdown",
   "metadata": {},
   "source": [
    "Now we can use the methods in the base class and the functions defined above to calculate the continued fraction for log base 2 of 3."
   ]
  },
  {
   "cell_type": "code",
   "execution_count": 7,
   "metadata": {},
   "outputs": [
    {
     "data": {
      "text/plain": [
       "[1, 1, 1, 2, 2, 3, 1, 5, 2, 23]"
      ]
     },
     "execution_count": 7,
     "metadata": {},
     "output_type": "execute_result"
    }
   ],
   "source": [
    "continued_fraction_terms(LogNumber(2,3),10)"
   ]
  },
  {
   "cell_type": "markdown",
   "metadata": {},
   "source": [
    "Note that some of these log numbers are rational. For example, log_4(8)=3/2. In this case, everything will still work:"
   ]
  },
  {
   "cell_type": "code",
   "execution_count": 8,
   "metadata": {},
   "outputs": [
    {
     "data": {
      "text/plain": [
       "[1, 2]"
      ]
     },
     "execution_count": 8,
     "metadata": {},
     "output_type": "execute_result"
    }
   ],
   "source": [
    "continued_fraction_terms(LogNumber(4,8),10)"
   ]
  },
  {
   "cell_type": "markdown",
   "metadata": {},
   "source": [
    "# Quadratic numbers\n",
    "The next class of numbers I'll look at here are solutions to quadratic equations with rational coefficients. By the quadratic formula, these can all be represented in the form (a+b\\sqrt{d})/c, where a, b, c, and d are integers.\n",
    "\n",
    "These numbers are known to have continued fractions that are exactly periodic, so this class has a special method to return the non-repeating part and repeating part of the continued fraction. This algorithm uses hashing to check if a quadratic number has already been seen during the process, so the `__hash__` method will be defined for this class."
   ]
  },
  {
   "cell_type": "code",
   "execution_count": 9,
   "metadata": {},
   "outputs": [],
   "source": [
    "class QuadraticNumber(ExactRealNumber):\n",
    "    #Represents a quadratic number of the form (a+b\\sqrt{d})/c, with a, b, c, and d integers.\n",
    "    def __init__(self, d, a=0, b=1, c=1, normalized=False):\n",
    "        #Set normalized=True if you know that c > 0 and a,b,c have no common divisor.\n",
    "        #This way you can save the time of normalizing the number.\n",
    "        if c==0:\n",
    "            raise ZeroDivisionError('QuadraticNumber'+str((a,b,c,d)))\n",
    "        if d<=1:\n",
    "            #There should also be an initialization error if d is not square free,\n",
    "            #but I'm skipping that to streamline the code.\n",
    "            raise InitializationError('The radicand must be greater than 1, but the given radicand was {}.'.format(str(d)))\n",
    "        for x in [a,b,c,d]:\n",
    "            if not isinstance(x, int):\n",
    "                raise InitializationError('The four arguments must be integers.')\n",
    "        self.a=a \n",
    "        self.b=b\n",
    "        self.c=c\n",
    "        self.d=d\n",
    "        if not normalized:\n",
    "            self.normalize()\n",
    "\n",
    "    def normalize(self):\n",
    "        #These numbers need to be normalized so that hashing will work.\n",
    "        commondiv=math.gcd(self.a,math.gcd(self.b,self.c))\n",
    "        self.a=self.a//commondiv\n",
    "        self.b=self.b//commondiv\n",
    "        self.c=self.c//commondiv\n",
    "        if self.c <0:\n",
    "            self.a=-self.a\n",
    "            self.b=-self.b\n",
    "            self.c=-self.c\n",
    "            \n",
    "    def __gt__(self,other):\n",
    "        if other==0:\n",
    "            if self.a == 0:\n",
    "                return self.b > 0\n",
    "            if self.b == 0:\n",
    "                return self.a > 0\n",
    "            if self.a > 0 and self.b > 0:\n",
    "                return True\n",
    "            if self.a < 0 and self.b < 0:\n",
    "                return False\n",
    "            if self.a > 0 and self.b < 0:\n",
    "                return self.a**2 > self.d*self.b**2\n",
    "            if self.a < 0 and self.b > 0:\n",
    "                return self.a**2 < self.d*self.b**2\n",
    "        else:\n",
    "            return (self - other)>0\n",
    "    \n",
    "    def __add__(self, other):\n",
    "        if isinstance(other, int):\n",
    "            return QuadraticNumber(self.d,self.a+self.c*other,self.b,self.c,normalized=True)\n",
    "        elif isinstance(other, QuadraticNumber):\n",
    "            if self.d != other.d:\n",
    "                return NotImplemented\n",
    "            else:\n",
    "                return QuadraticNumber(self.d, self.a*other.c+self.c*other.a,self.b*other.c+other.b*self.c,self.c*other.c)\n",
    "            \n",
    "    def __rtruediv__(self, other):\n",
    "        #Defined only when other is 1, though it could be defined more generally.\n",
    "        if self != 0:\n",
    "            if other==1:\n",
    "                return QuadraticNumber(self.d, self.c*self.a, -1*self.c*self.b, self.a**2-self.d*self.b**2)\n",
    "            else:\n",
    "                return NotImplemented\n",
    "        else:\n",
    "            raise ZeroDivisionError()\n",
    "\n",
    "    def __eq__(self,other):\n",
    "        if isinstance(other, int):\n",
    "            return self.b==0 and self.a==self.c*other\n",
    "        if isinstance(other, QuadraticNumber):\n",
    "            return self.a == other.a and self.b == other.b and self.c==other.c and self.d == other.d\n",
    "        else:\n",
    "            return NotImplemented\n",
    "        \n",
    "    def __hash__(self):     \n",
    "        return hash((self.a,self.b,self.c,self.d))\n",
    "\n",
    "    def __str__(self):\n",
    "        bpart=\"\"\n",
    "        cpart=\"\"\n",
    "        dpart=\"\"\n",
    "        if self.a==0 and self.b==0:\n",
    "            return \"0\"\n",
    "        if self.c!=1:\n",
    "            cpart=\"/\"+str(self.c)\n",
    "        else:\n",
    "            cpart=\"\"\n",
    "        dpart=\"sqrt(\"+str(self.d)+\")\"\n",
    "        if self.b==0:\n",
    "            return str(self.a)+cpart\n",
    "        if self.a==0:\n",
    "            if self.b==1:\n",
    "                return dpart+cpart\n",
    "            elif self.b==-1:\n",
    "                return \"-\"+dpart+cpart\n",
    "            else:\n",
    "                return str(self.b)+\"*\"+dpart+cpart\n",
    "        if self.b == 1:\n",
    "            bpart = \"+\"\n",
    "        elif self.b == -1:\n",
    "            sgnbpart = \"-\"\n",
    "        elif self.b >0:\n",
    "            inner = \"+\"+str(self.b)+\"*\"\n",
    "        elif self.b <0:\n",
    "            inner = \"-\"+str(-1*self.b)+\"*\"\n",
    "        return \"(\"+str(self.a)+bpart+dpart+\")\"+cpart\n",
    "    \n",
    "    def repeating_continued_fraction(self):\n",
    "        #Returns an ordered pair whose first element is the non-repeating part\n",
    "        #and whose second element is the repeating part.\n",
    "        qn=self\n",
    "        cflist=[]\n",
    "        cfdict={}\n",
    "        i=0\n",
    "        while qn not in cfdict:\n",
    "            fl=math.floor(qn)\n",
    "            cflist.append(fl)\n",
    "            cfdict[qn]=i\n",
    "            i+=1\n",
    "            qn=qn - fl\n",
    "            qn=1/qn\n",
    "        start_of_rep = cfdict[qn]\n",
    "        return cflist[:start_of_rep],cflist[start_of_rep:]"
   ]
  },
  {
   "cell_type": "markdown",
   "metadata": {},
   "source": [
    "First, let's use this code to find the continued fraction of sqrt(2)."
   ]
  },
  {
   "cell_type": "code",
   "execution_count": 10,
   "metadata": {},
   "outputs": [
    {
     "data": {
      "text/plain": [
       "([1], [2])"
      ]
     },
     "execution_count": 10,
     "metadata": {},
     "output_type": "execute_result"
    }
   ],
   "source": [
    "sqrt2=QuadraticNumber(2)\n",
    "sqrt2.repeating_continued_fraction()"
   ]
  },
  {
   "cell_type": "markdown",
   "metadata": {},
   "source": [
    "The code successfully reached the well known answer that the continued fraction for the square root of 2 is 1 followed by 2 repeating.\n",
    "\n",
    "Another notable example is φ=(1+sqrt(5))/2, the golden ratio, whose continued fraction has all terms equal to 1, as this function finds:"
   ]
  },
  {
   "cell_type": "code",
   "execution_count": 11,
   "metadata": {},
   "outputs": [
    {
     "data": {
      "text/plain": [
       "([], [1])"
      ]
     },
     "execution_count": 11,
     "metadata": {},
     "output_type": "execute_result"
    }
   ],
   "source": [
    "phi=QuadraticNumber(5,1,1,2)\n",
    "phi.repeating_continued_fraction()"
   ]
  },
  {
   "cell_type": "markdown",
   "metadata": {},
   "source": [
    "Here are some examples with longer periods:"
   ]
  },
  {
   "cell_type": "code",
   "execution_count": 12,
   "metadata": {},
   "outputs": [
    {
     "name": "stdout",
     "output_type": "stream",
     "text": [
      "sqrt(62)\n",
      "([7], [1, 6, 1, 14])\n",
      "\n",
      "sqrt(62)/2\n",
      "([3], [1, 14, 1, 6])\n",
      "\n",
      "sqrt(2)/62\n",
      "([0, 43], [1, 5, 3, 1, 1, 1, 4, 1, 1, 11, 1, 42, 1, 11, 1, 1, 4, 1, 1, 1, 3, 5, 1, 86])\n",
      "\n"
     ]
    }
   ],
   "source": [
    "qns=[QuadraticNumber(62),QuadraticNumber(62,0,1,2),QuadraticNumber(2,0,1,62)]\n",
    "for q in qns:\n",
    "    print(q)\n",
    "    print(q.repeating_continued_fraction())\n",
    "    print()"
   ]
  },
  {
   "cell_type": "markdown",
   "metadata": {},
   "source": [
    "# General irrational algebraic numbers\n",
    "Beyond quadratic numbers, it is possible to do exact arithmetic with general real algebraic numbers. You can represent a real algebraic number by giving the following data: A rational polynomial of which the number is a root, and lower and upper bounds for an interval in which that number is the only root of the polynomial.\n",
    "## A note on generality\n",
    "This notebook's methods only cover irrational numbers, because that allows some code to be streamlined, and I am only interested in using this class to calculate continued fractions for irrational algebraic numbers.\n",
    "\n",
    "Also, right now only addition with integers is defined. It is possible to add or multiply two algebraic represented as polynomials and intervals, but this is complicated and not needed for calculating continued fractions.\n",
    "\n",
    "## Polynomials\n",
    "To begin with, I need a class for polynomials with rational coefficients."
   ]
  },
  {
   "cell_type": "code",
   "execution_count": 13,
   "metadata": {},
   "outputs": [],
   "source": [
    "class Polynomial():\n",
    "    def __init__(self,coeff_list):\n",
    "        self.coeff_list=[Fraction(c) for c in coeff_list]\n",
    "\n",
    "        #Cut off extraneous zero high-degree terms, always leaving a constant term.\n",
    "        while self.coeff_list[-1]==0 and len(self.coeff_list)>1:\n",
    "            self.coeff_list.pop()\n",
    "        self.degree=len(self.coeff_list)-1\n",
    "        #Adjust so that the degree of the 0 polynomial is -1, following a standard convention. \n",
    "        if self.degree==0 and self.coeff_list[0]==0:\n",
    "            self.degree=-1\n",
    "            \n",
    "    def evaluate(self,a):\n",
    "        #Returns f(a).\n",
    "        val=0\n",
    "        for c in reversed(self.coeff_list):\n",
    "            val=c+a*val\n",
    "        return val\n",
    "    \n",
    "    def deriv(self):\n",
    "        #Returns the derivative of f.\n",
    "        if self.degree < 1:\n",
    "            return 0\n",
    "        cl=[]\n",
    "        for i, c in enumerate(self.coeff_list[1:]):\n",
    "            cl.append((i+1)*c)\n",
    "        return Polynomial(cl)\n",
    "\n",
    "    def shift(self,a):\n",
    "        #Returns the polynomial f(x+a)\n",
    "        if self.degree < 1:\n",
    "            return self\n",
    "        poly=self\n",
    "        scl=[]\n",
    "        fact=1\n",
    "        for i in range(self.degree+1):\n",
    "            scl.append(poly.evaluate(a)/fact)\n",
    "            poly=poly.deriv()\n",
    "            fact=fact*(i+1)\n",
    "        return Polynomial(scl)\n",
    "    \n",
    "    def __str__(self):\n",
    "        #Could be improved, but communicates all information.\n",
    "        strlist = [str(c)+\"*x^\"+str(i) for i, c in enumerate(self.coeff_list)]\n",
    "        return \"+\".join(strlist)"
   ]
  },
  {
   "cell_type": "markdown",
   "metadata": {},
   "source": [
    "## The class IrrationalAlgebraicNumber\n",
    "With the polynomial class, I can define this class by representing an algebraic number as a root of a polynomial in a specified interval.\n",
    "\n",
    "Many of the methods, including a `__floor__` method overriding the one in the base class, work by using a bisection method to refine the bounds on the number.\n",
    "\n",
    "### Current limitations\n",
    "Right now this class only works properly if the polynomial f and bounds a, b used to initialize an instance satisfy the following three conditions:\n",
    "* f has a unique root in the interval (a,b).\n",
    "* This root is irrational.\n",
    "* f(a) < 0 and f(b) > 0.\n",
    "\n",
    "The initialization method only checks the third condition. Using some polynomial algorithms, it would be possible to also check the first two conditions and make the third unnecessary. For simplicity none of this is done here, but it may be done in a future version of this notebook.\n",
    "\n",
    "Note that these conditions are easy to satisfy for nth roots of whole numbers: If d > 1, the polynomial x^n-d satisfies these conditions with bounds 1, d."
   ]
  },
  {
   "cell_type": "code",
   "execution_count": 14,
   "metadata": {},
   "outputs": [],
   "source": [
    "class IrrationalAlgebraicNumber(ExactRealNumber):\n",
    "    #Here are the constraints the input data needs to satisfy for everything to work:\n",
    "    ##r is irrational\n",
    "    ##r is the unique root of f in (a,b), where a and b are the lower and upper bounds\n",
    "    ##f(a)<0 and f(b)>0\n",
    "    #Only the third constraint is actually checked.\n",
    "    def __init__(self, f, lower_bound, upper_bound):\n",
    "        if not lower_bound < upper_bound:\n",
    "            raise InitializationError('The lower bound should be less than the upper bound.')\n",
    "        if f.evaluate(lower_bound) >= 0 or f.evaluate(upper_bound) <= 0:\n",
    "            raise InitializationError('The polynomial must be negative at the lower bound and positive at the upper bound for the current methods to work. This restriction may be removed in the future.')\n",
    "        self.poly=f\n",
    "        self.lower_bound = Fraction(lower_bound)\n",
    "        self.upper_bound = Fraction(upper_bound)\n",
    "\n",
    "    def __rtruediv__(self,other):\n",
    "        while (self.lower_bound < 0 and self.upper_bound > 0) or self.lower_bound==0 or self.upper_bound==0:\n",
    "        #Because the root is irrational it is non-zero so this bisection is guaranteed to terminate.\n",
    "            self.bisect_bounds()\n",
    "        #After the above loop, the bounds are guaranteed to both be positive or both be negative\n",
    "        #so that their reciprocals can bound the reciprocal root.\n",
    "        n= self.poly.degree\n",
    "        new_coeff_list=list(reversed(self.poly.coeff_list))\n",
    "        if self.lower_bound > 0 or n%2==0:\n",
    "            #In this case the polynomial needs to be negated so it has the correct signs at the bounds.\n",
    "            new_coeff_list=[-c for c in new_coeff_list]\n",
    "        return IrrationalAlgebraicNumber(Polynomial(new_coeff_list), 1/self.upper_bound, 1/self.lower_bound)\n",
    "    \n",
    "    def bisect_bounds(self):\n",
    "        m = (self.lower_bound + self.upper_bound)/2\n",
    "        val = self.poly.evaluate(m)\n",
    "        if val > 0:\n",
    "            self.upper_bound = m\n",
    "        elif val < 0:\n",
    "            self.lower_bound = m\n",
    "                \n",
    "    def __str__(self):\n",
    "        return \"The unique root of \"+str(self.poly)+\" between \"+str(self.lower_bound)+\" and \"+str(self.upper_bound)+\".\"\n",
    "        \n",
    "    def __add__(self,other):\n",
    "        if isinstance(other, int):\n",
    "            newpoly = self.poly.shift(-other)\n",
    "            return IrrationalAlgebraicNumber(newpoly, self.lower_bound+other, self.upper_bound+other)\n",
    "        else:\n",
    "            return NotImplemented\n",
    "        \n",
    "    def __eq__(self,other):\n",
    "        if isinstance(other,int) or isinstance(other,Fraction):\n",
    "            return False #Since the number is irrational.\n",
    "        else:\n",
    "            return NotImplemented\n",
    "        \n",
    "    def __gt__(self,other):\n",
    "        if isinstance(other,int) or isinstance(other,Fraction):\n",
    "            while other >= self.lower_bound and other < self.upper_bound:\n",
    "            #Guaranteed to terminate since the number is irrational.\n",
    "                self.bisect_bounds()\n",
    "        else:\n",
    "            return NotImplemented\n",
    "\n",
    "    def __floor__(self):\n",
    "        while math.floor(self.lower_bound)+1 != math.ceil(self.upper_bound):\n",
    "            #Bisect until the lower and upper bounds are in the interval [floor(r), ceiling(r)].\n",
    "            self.bisect_bounds()\n",
    "        return math.floor(self.lower_bound)"
   ]
  },
  {
   "cell_type": "markdown",
   "metadata": {},
   "source": [
    "Now, let's look at some examples:"
   ]
  },
  {
   "cell_type": "code",
   "execution_count": 15,
   "metadata": {},
   "outputs": [],
   "source": [
    "def nthroot(n,d):\n",
    "    #If d is an integer > 1 and n is a positive integer,\n",
    "    #returns an IrrationalAlgebraicNumber representing the nth root of d.\n",
    "    coef_list=[0 for i in range(n+1)]\n",
    "    coef_list[0]=-d\n",
    "    coef_list[-1]=1\n",
    "    return IrrationalAlgebraicNumber(Polynomial(coef_list),1,d)"
   ]
  },
  {
   "cell_type": "code",
   "execution_count": 16,
   "metadata": {},
   "outputs": [
    {
     "data": {
      "text/plain": [
       "[1, 3, 1, 5, 1, 1, 4, 1, 1, 8, 1, 14, 1, 10, 2, 1, 4, 12, 2, 3]"
      ]
     },
     "execution_count": 16,
     "metadata": {},
     "output_type": "execute_result"
    }
   ],
   "source": [
    "continued_fraction_terms(nthroot(3,2),20)"
   ]
  },
  {
   "cell_type": "code",
   "execution_count": 17,
   "metadata": {},
   "outputs": [
    {
     "data": {
      "text/plain": [
       "[1, 5, 3, 1, 1, 40, 5, 1, 1, 25, 2, 3, 1, 6, 2, 1, 1, 2, 1, 2]"
      ]
     },
     "execution_count": 17,
     "metadata": {},
     "output_type": "execute_result"
    }
   ],
   "source": [
    "continued_fraction_terms(nthroot(4,2),20)"
   ]
  },
  {
   "cell_type": "code",
   "execution_count": 18,
   "metadata": {},
   "outputs": [
    {
     "data": {
      "text/plain": [
       "[1, 6, 1, 2, 1, 1, 1, 3, 25, 1, 4, 3, 3, 7, 52, 1, 2, 3, 2, 15]"
      ]
     },
     "execution_count": 18,
     "metadata": {},
     "output_type": "execute_result"
    }
   ],
   "source": [
    "continued_fraction_terms(nthroot(5,2),20)"
   ]
  },
  {
   "cell_type": "code",
   "execution_count": 19,
   "metadata": {},
   "outputs": [
    {
     "data": {
      "text/plain": [
       "[1, 143, 1, 3, 2, 1, 6, 3, 1, 4, 1, 3, 10, 1, 1, 45, 62, 1, 1, 2]"
      ]
     },
     "execution_count": 19,
     "metadata": {},
     "output_type": "execute_result"
    }
   ],
   "source": [
    "continued_fraction_terms(nthroot(100,2),20)"
   ]
  }
 ],
 "metadata": {
  "kernelspec": {
   "display_name": "Python 3",
   "language": "python",
   "name": "python3"
  },
  "language_info": {
   "codemirror_mode": {
    "name": "ipython",
    "version": 3
   },
   "file_extension": ".py",
   "mimetype": "text/x-python",
   "name": "python",
   "nbconvert_exporter": "python",
   "pygments_lexer": "ipython3",
   "version": "3.8.1"
  }
 },
 "nbformat": 4,
 "nbformat_minor": 4
}
